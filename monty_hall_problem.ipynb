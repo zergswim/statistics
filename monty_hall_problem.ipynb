{
  "nbformat": 4,
  "nbformat_minor": 0,
  "metadata": {
    "colab": {
      "name": "monty hall problem.ipynb",
      "provenance": [],
      "collapsed_sections": [],
      "authorship_tag": "ABX9TyPYj62dXcdtp3Ax/L+5NooB",
      "include_colab_link": true
    },
    "kernelspec": {
      "name": "python3",
      "display_name": "Python 3"
    },
    "language_info": {
      "name": "python"
    }
  },
  "cells": [
    {
      "cell_type": "markdown",
      "metadata": {
        "id": "view-in-github",
        "colab_type": "text"
      },
      "source": [
        "<a href=\"https://colab.research.google.com/github/zergswim/statistics/blob/master/monty_hall_problem.ipynb\" target=\"_parent\"><img src=\"https://colab.research.google.com/assets/colab-badge.svg\" alt=\"Open In Colab\"/></a>"
      ]
    },
    {
      "cell_type": "code",
      "execution_count": null,
      "metadata": {
        "colab": {
          "base_uri": "https://localhost:8080/"
        },
        "id": "gEji7UGvjslt",
        "outputId": "4c3f936d-7b87-40c1-8886-c062d74ac705"
      },
      "outputs": [
        {
          "output_type": "stream",
          "name": "stdout",
          "text": [
            "선택을 바꾸었을때 승률: 0.6675237341772152 3375 5056\n",
            "선택을 바꾸지 않았을때 승률: 0.32989482200647247 1631 4944\n"
          ]
        }
      ],
      "source": [
        "import random\n",
        "    \n",
        "def showWrong(arr, A):\n",
        "    if(A == 0):\n",
        "        return ['X', 'O', 'show']\n",
        "    else:\n",
        "        return ['show', 'O', 'X']\n",
        "\n",
        "arr = ['X', 'O', 'X']\n",
        "rst = []\n",
        "rst_c = []\n",
        "rst_n = []\n",
        "epoch = 10000\n",
        "for i in range(epoch):\n",
        "    A = random.randint(0,2)\n",
        "    rst.append(arr[A])\n",
        "    arr2 = showWrong(arr, A)\n",
        "\n",
        "    if(A == 0):\n",
        "        A2 = random.randint(0,1)\n",
        "    else:\n",
        "        A2 = random.randint(1,2)\n",
        "    \n",
        "    if(A == A2):\n",
        "        rst_n.append(arr2[A2])\n",
        "    else:\n",
        "        rst_c.append(arr2[A2])\n",
        "        \n",
        "    \n",
        "import matplotlib.pyplot as plt\n",
        "# o_per = rst.count('O') / len(rst) \n",
        "# print(len(rst), o_per)\n",
        "# plt.hist(rst)\n",
        "# plt.show()\n",
        "\n",
        "c_per = rst_c.count('O') / len(rst_c) \n",
        "print('선택을 바꾸었을때 승률:', c_per, rst_c.count('O'), len(rst_c))\n",
        "# plt.hist(rst_c)\n",
        "# plt.show()\n",
        "\n",
        "n_per = rst_n.count('O') / len(rst_n) \n",
        "print('선택을 바꾸지 않았을때 승률:',n_per, rst_n.count('O'), len(rst_n))\n",
        "# plt.hist(rst_n)\n",
        "# plt.show()"
      ]
    },
    {
      "cell_type": "code",
      "source": [
        "import random\n",
        "    \n",
        "def showWrong(arr, A):\n",
        "    xIdx = arr.index('X')\n",
        "    if(A == xIdx):\n",
        "        xIdx = arr.index('X',xIdx+1,len(arr))\n",
        "    arr[xIdx] = 'show'\n",
        "    return arr\n",
        "    \n",
        "rst = []\n",
        "rst_c = []\n",
        "rst_n = []\n",
        "epoch = 10000\n",
        "for i in range(epoch):\n",
        "    arr = random.sample(\"XOX\",3)\n",
        "    A = random.randint(0,2)\n",
        "    rst.append(arr[A])\n",
        "    arr2 = showWrong(arr, A)\n",
        "#     print(arr2, A)\n",
        "\n",
        "    A2 = random.randint(0,2)\n",
        "    while(arr2[A2] == 'show'):\n",
        "        A2 = random.randint(0,2)\n",
        "    \n",
        "    if(A == A2):\n",
        "        rst_n.append(arr2[A2])\n",
        "    else:\n",
        "        rst_c.append(arr2[A2])\n",
        "\n",
        "        \n",
        "import matplotlib.pyplot as plt\n",
        "o_per = rst.count('O') / len(rst) \n",
        "print(len(rst), o_per)\n",
        "# plt.hist(rst)\n",
        "# plt.show()\n",
        "\n",
        "o_per = rst_c.count('O') / len(rst_c) \n",
        "print('rst_c:', len(rst_c), o_per, rst_c.count('O'))\n",
        "# plt.hist(rst_c)\n",
        "# plt.show()\n",
        "\n",
        "o_per = rst_n.count('O') / len(rst_n) \n",
        "print('rst_n:',len(rst_n), o_per, rst_n.count('O'))\n",
        "# plt.hist(rst_n)\n",
        "# plt.show()\n"
      ],
      "metadata": {
        "id": "guoybkgxj2Ya",
        "colab": {
          "base_uri": "https://localhost:8080/"
        },
        "outputId": "65bde549-ab1e-40d0-ad4f-9188dd737755"
      },
      "execution_count": 4,
      "outputs": [
        {
          "output_type": "stream",
          "name": "stdout",
          "text": [
            "10000 0.3366\n",
            "rst_c: 4949 0.6627601535663771 3280\n",
            "rst_n: 5051 0.3359730746386854 1697\n"
          ]
        }
      ]
    },
    {
      "cell_type": "code",
      "source": [
        ""
      ],
      "metadata": {
        "id": "7HyuTfxU5FGh"
      },
      "execution_count": null,
      "outputs": []
    }
  ]
}