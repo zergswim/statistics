{
  "nbformat": 4,
  "nbformat_minor": 0,
  "metadata": {
    "colab": {
      "name": "Pigeonhole principle.ipynb",
      "provenance": [],
      "collapsed_sections": [],
      "authorship_tag": "ABX9TyN4Ghwt8C85Qt5xgfJ8Kewn",
      "include_colab_link": true
    },
    "kernelspec": {
      "name": "python3",
      "display_name": "Python 3"
    },
    "language_info": {
      "name": "python"
    }
  },
  "cells": [
    {
      "cell_type": "markdown",
      "metadata": {
        "id": "view-in-github",
        "colab_type": "text"
      },
      "source": [
        "<a href=\"https://colab.research.google.com/github/zergswim/statistics/blob/master/Pigeonhole_principle.ipynb\" target=\"_parent\"><img src=\"https://colab.research.google.com/assets/colab-badge.svg\" alt=\"Open In Colab\"/></a>"
      ]
    },
    {
      "cell_type": "code",
      "execution_count": 1,
      "metadata": {
        "colab": {
          "base_uri": "https://localhost:8080/",
          "height": 265
        },
        "id": "LM8a0Mwm5GvV",
        "outputId": "5242ad18-660f-4e0d-dbf5-e0712d708a37"
      },
      "outputs": [
        {
          "output_type": "display_data",
          "data": {
            "text/plain": [
              "<Figure size 432x288 with 1 Axes>"
            ],
            "image/png": "[encoded data removed]"
          },
          "metadata": {
            "needs_background": "light"
          }
        }
      ],
      "source": [
        "#비둘기집의 원리(상상의 방에 집어넣는다고 생각할 것)\n",
        "#https://brunch.co.kr/@mathian/32\n",
        "\n",
        "import random\n",
        "mylist = [\"w\", \"w\", \"w\", \"w\", \"w\", \"w\", \"w\", \"w\", \"w\", \"w\", \"b\", \"b\", \"b\", \"b\", \"b\", \"b\", \"b\", \"b\", \"b\", \"b\"]\n",
        "\n",
        "def findSack():\n",
        "    rst = []\n",
        "    for i in range(10):\n",
        "        r = random.sample(mylist, k=1)\n",
        "        rst.append(*r)\n",
        "        #print(i, rst)\n",
        "\n",
        "        if(rst.count('w') == 2 or rst.count('b') == 2):\n",
        "            #print(\"found:\", i, rst)\n",
        "            return i\n",
        "\n",
        "result = []\n",
        "for i in range(10000):\n",
        "    result.append(findSack())\n",
        "    \n",
        "import matplotlib.pyplot as plt\n",
        "plt.hist(result)\n",
        "plt.show()\n",
        "#만번시도해도 당연히, 최대 2번을 넘지 않는다."
      ]
    },
    {
      "cell_type": "code",
      "source": [
        ""
      ],
      "metadata": {
        "id": "J8zbsXwo5hxZ"
      },
      "execution_count": null,
      "outputs": []
    }
  ]
}